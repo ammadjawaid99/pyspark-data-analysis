{
 "cells": [
  {
   "cell_type": "code",
   "execution_count": 2,
   "metadata": {
    "colab": {
     "base_uri": "https://localhost:8080/"
    },
    "id": "Owe1GT8emJyI",
    "outputId": "43a65b51-1c63-4f41-e9a2-335bc7497c3e"
   },
   "outputs": [
    {
     "name": "stdout",
     "output_type": "stream",
     "text": [
      "Looking in indexes: https://pypi.org/simple, https://us-python.pkg.dev/colab-wheels/public/simple/\n",
      "Collecting pyspark\n",
      "  Downloading pyspark-3.4.0.tar.gz (310.8 MB)\n",
      "\u001b[2K     \u001b[90m━━━━━━━━━━━━━━━━━━━━━━━━━━━━━━━━━━━━━━━\u001b[0m \u001b[32m310.8/310.8 MB\u001b[0m \u001b[31m3.7 MB/s\u001b[0m eta \u001b[36m0:00:00\u001b[0m\n",
      "\u001b[?25h  Preparing metadata (setup.py) ... \u001b[?25l\u001b[?25hdone\n",
      "Requirement already satisfied: py4j==0.10.9.7 in /usr/local/lib/python3.10/dist-packages (from pyspark) (0.10.9.7)\n",
      "Building wheels for collected packages: pyspark\n",
      "  Building wheel for pyspark (setup.py) ... \u001b[?25l\u001b[?25hdone\n",
      "  Created wheel for pyspark: filename=pyspark-3.4.0-py2.py3-none-any.whl size=311317145 sha256=722e09b907c098cb2884054d75d8ec3496420ed722558aaf15dd652698d215fd\n",
      "  Stored in directory: /root/.cache/pip/wheels/7b/1b/4b/3363a1d04368e7ff0d408e57ff57966fcdf00583774e761327\n",
      "Successfully built pyspark\n",
      "Installing collected packages: pyspark\n",
      "Successfully installed pyspark-3.4.0\n"
     ]
    }
   ],
   "source": [
    "!pip install pyspark"
   ]
  },
  {
   "cell_type": "code",
   "execution_count": 3,
   "metadata": {
    "id": "3CD8BvCUmAiL"
   },
   "outputs": [],
   "source": [
    "from pyspark.sql import SparkSession\n",
    "from pyspark.sql.functions import count, when, isnan, col\n",
    "from pyspark.sql.functions import *\n",
    "from pyspark.ml import Pipeline\n",
    "from pyspark.ml.feature import StandardScaler, StringIndexer, OneHotEncoder, VectorAssembler\n",
    "\n",
    "import seaborn as sns\n",
    "import matplotlib.pyplot as plt\n",
    "import pandas as pd"
   ]
  },
  {
   "cell_type": "markdown",
   "metadata": {
    "id": "UautD8NKmFUx"
   },
   "source": [
    "### **Reading the dataset**"
   ]
  },
  {
   "cell_type": "code",
   "execution_count": 4,
   "metadata": {
    "id": "cr2ysg6kmHpx"
   },
   "outputs": [],
   "source": [
    "spark = SparkSession.builder.master(\"local[2]\").appName(\"PySpark-TitanicData\").getOrCreate()"
   ]
  },
  {
   "cell_type": "code",
   "execution_count": 5,
   "metadata": {
    "id": "VE1RmhhJma7r"
   },
   "outputs": [],
   "source": [
    "fileLocation = '/content/TitanicData.csv'\n",
    "\n",
    "data = spark.read.csv(fileLocation, header=True, inferSchema=True)"
   ]
  },
  {
   "cell_type": "markdown",
   "metadata": {
    "id": "1pRydU0LntVs"
   },
   "source": [
    "Here, header=True tells PySpark to use the first row of the CSV file as column names, and inferSchema=True tells PySpark to automatically infer the data types of each column."
   ]
  },
  {
   "cell_type": "markdown",
   "metadata": {
    "id": "12kb3owb-wNK"
   },
   "source": [
    "##### **Data Overview**"
   ]
  },
  {
   "cell_type": "code",
   "execution_count": 6,
   "metadata": {
    "colab": {
     "base_uri": "https://localhost:8080/"
    },
    "id": "cpRSXouqnYVo",
    "outputId": "b359dc12-5533-4023-a452-8bfe8ff1bdfb"
   },
   "outputs": [
    {
     "name": "stdout",
     "output_type": "stream",
     "text": [
      "root\n",
      " |-- PassengerId: integer (nullable = true)\n",
      " |-- Pclass: integer (nullable = true)\n",
      " |-- Name: string (nullable = true)\n",
      " |-- Sex: string (nullable = true)\n",
      " |-- Age: double (nullable = true)\n",
      " |-- SibSp: integer (nullable = true)\n",
      " |-- Parch: integer (nullable = true)\n",
      " |-- Ticket: string (nullable = true)\n",
      " |-- Fare: double (nullable = true)\n",
      " |-- Cabin: string (nullable = true)\n",
      " |-- Embarked: string (nullable = true)\n",
      " |-- Survived: integer (nullable = true)\n",
      "\n"
     ]
    }
   ],
   "source": [
    "data.printSchema()"
   ]
  },
  {
   "cell_type": "markdown",
   "metadata": {
    "id": "R3m4lTan_HSI"
   },
   "source": [
    "##### **Columns Overview**"
   ]
  },
  {
   "cell_type": "code",
   "execution_count": 7,
   "metadata": {
    "colab": {
     "base_uri": "https://localhost:8080/",
     "height": 425
    },
    "id": "Zv_ZhASv_Lie",
    "outputId": "c8e59cf7-ea89-4328-866d-bd2465bf33ae"
   },
   "outputs": [
    {
     "data": {
      "text/html": [
       "\n",
       "  <div id=\"df-32d2dca8-b1de-4014-a2d0-af6a96afe94e\">\n",
       "    <div class=\"colab-df-container\">\n",
       "      <div>\n",
       "<style scoped>\n",
       "    .dataframe tbody tr th:only-of-type {\n",
       "        vertical-align: middle;\n",
       "    }\n",
       "\n",
       "    .dataframe tbody tr th {\n",
       "        vertical-align: top;\n",
       "    }\n",
       "\n",
       "    .dataframe thead th {\n",
       "        text-align: right;\n",
       "    }\n",
       "</style>\n",
       "<table border=\"1\" class=\"dataframe\">\n",
       "  <thead>\n",
       "    <tr style=\"text-align: right;\">\n",
       "      <th></th>\n",
       "      <th>Column</th>\n",
       "      <th>Data type</th>\n",
       "    </tr>\n",
       "  </thead>\n",
       "  <tbody>\n",
       "    <tr>\n",
       "      <th>0</th>\n",
       "      <td>PassengerId</td>\n",
       "      <td>int</td>\n",
       "    </tr>\n",
       "    <tr>\n",
       "      <th>1</th>\n",
       "      <td>Pclass</td>\n",
       "      <td>int</td>\n",
       "    </tr>\n",
       "    <tr>\n",
       "      <th>2</th>\n",
       "      <td>Name</td>\n",
       "      <td>string</td>\n",
       "    </tr>\n",
       "    <tr>\n",
       "      <th>3</th>\n",
       "      <td>Sex</td>\n",
       "      <td>string</td>\n",
       "    </tr>\n",
       "    <tr>\n",
       "      <th>4</th>\n",
       "      <td>Age</td>\n",
       "      <td>double</td>\n",
       "    </tr>\n",
       "    <tr>\n",
       "      <th>5</th>\n",
       "      <td>SibSp</td>\n",
       "      <td>int</td>\n",
       "    </tr>\n",
       "    <tr>\n",
       "      <th>6</th>\n",
       "      <td>Parch</td>\n",
       "      <td>int</td>\n",
       "    </tr>\n",
       "    <tr>\n",
       "      <th>7</th>\n",
       "      <td>Ticket</td>\n",
       "      <td>string</td>\n",
       "    </tr>\n",
       "    <tr>\n",
       "      <th>8</th>\n",
       "      <td>Fare</td>\n",
       "      <td>double</td>\n",
       "    </tr>\n",
       "    <tr>\n",
       "      <th>9</th>\n",
       "      <td>Cabin</td>\n",
       "      <td>string</td>\n",
       "    </tr>\n",
       "    <tr>\n",
       "      <th>10</th>\n",
       "      <td>Embarked</td>\n",
       "      <td>string</td>\n",
       "    </tr>\n",
       "    <tr>\n",
       "      <th>11</th>\n",
       "      <td>Survived</td>\n",
       "      <td>int</td>\n",
       "    </tr>\n",
       "  </tbody>\n",
       "</table>\n",
       "</div>\n",
       "      <button class=\"colab-df-convert\" onclick=\"convertToInteractive('df-32d2dca8-b1de-4014-a2d0-af6a96afe94e')\"\n",
       "              title=\"Convert this dataframe to an interactive table.\"\n",
       "              style=\"display:none;\">\n",
       "        \n",
       "  <svg xmlns=\"http://www.w3.org/2000/svg\" height=\"24px\"viewBox=\"0 0 24 24\"\n",
       "       width=\"24px\">\n",
       "    <path d=\"M0 0h24v24H0V0z\" fill=\"none\"/>\n",
       "    <path d=\"M18.56 5.44l.94 2.06.94-2.06 2.06-.94-2.06-.94-.94-2.06-.94 2.06-2.06.94zm-11 1L8.5 8.5l.94-2.06 2.06-.94-2.06-.94L8.5 2.5l-.94 2.06-2.06.94zm10 10l.94 2.06.94-2.06 2.06-.94-2.06-.94-.94-2.06-.94 2.06-2.06.94z\"/><path d=\"M17.41 7.96l-1.37-1.37c-.4-.4-.92-.59-1.43-.59-.52 0-1.04.2-1.43.59L10.3 9.45l-7.72 7.72c-.78.78-.78 2.05 0 2.83L4 21.41c.39.39.9.59 1.41.59.51 0 1.02-.2 1.41-.59l7.78-7.78 2.81-2.81c.8-.78.8-2.07 0-2.86zM5.41 20L4 18.59l7.72-7.72 1.47 1.35L5.41 20z\"/>\n",
       "  </svg>\n",
       "      </button>\n",
       "      \n",
       "  <style>\n",
       "    .colab-df-container {\n",
       "      display:flex;\n",
       "      flex-wrap:wrap;\n",
       "      gap: 12px;\n",
       "    }\n",
       "\n",
       "    .colab-df-convert {\n",
       "      background-color: #E8F0FE;\n",
       "      border: none;\n",
       "      border-radius: 50%;\n",
       "      cursor: pointer;\n",
       "      display: none;\n",
       "      fill: #1967D2;\n",
       "      height: 32px;\n",
       "      padding: 0 0 0 0;\n",
       "      width: 32px;\n",
       "    }\n",
       "\n",
       "    .colab-df-convert:hover {\n",
       "      background-color: #E2EBFA;\n",
       "      box-shadow: 0px 1px 2px rgba(60, 64, 67, 0.3), 0px 1px 3px 1px rgba(60, 64, 67, 0.15);\n",
       "      fill: #174EA6;\n",
       "    }\n",
       "\n",
       "    [theme=dark] .colab-df-convert {\n",
       "      background-color: #3B4455;\n",
       "      fill: #D2E3FC;\n",
       "    }\n",
       "\n",
       "    [theme=dark] .colab-df-convert:hover {\n",
       "      background-color: #434B5C;\n",
       "      box-shadow: 0px 1px 3px 1px rgba(0, 0, 0, 0.15);\n",
       "      filter: drop-shadow(0px 1px 2px rgba(0, 0, 0, 0.3));\n",
       "      fill: #FFFFFF;\n",
       "    }\n",
       "  </style>\n",
       "\n",
       "      <script>\n",
       "        const buttonEl =\n",
       "          document.querySelector('#df-32d2dca8-b1de-4014-a2d0-af6a96afe94e button.colab-df-convert');\n",
       "        buttonEl.style.display =\n",
       "          google.colab.kernel.accessAllowed ? 'block' : 'none';\n",
       "\n",
       "        async function convertToInteractive(key) {\n",
       "          const element = document.querySelector('#df-32d2dca8-b1de-4014-a2d0-af6a96afe94e');\n",
       "          const dataTable =\n",
       "            await google.colab.kernel.invokeFunction('convertToInteractive',\n",
       "                                                     [key], {});\n",
       "          if (!dataTable) return;\n",
       "\n",
       "          const docLinkHtml = 'Like what you see? Visit the ' +\n",
       "            '<a target=\"_blank\" href=https://colab.research.google.com/notebooks/data_table.ipynb>data table notebook</a>'\n",
       "            + ' to learn more about interactive tables.';\n",
       "          element.innerHTML = '';\n",
       "          dataTable['output_type'] = 'display_data';\n",
       "          await google.colab.output.renderOutput(dataTable, element);\n",
       "          const docLink = document.createElement('div');\n",
       "          docLink.innerHTML = docLinkHtml;\n",
       "          element.appendChild(docLink);\n",
       "        }\n",
       "      </script>\n",
       "    </div>\n",
       "  </div>\n",
       "  "
      ],
      "text/plain": [
       "         Column Data type\n",
       "0   PassengerId       int\n",
       "1        Pclass       int\n",
       "2          Name    string\n",
       "3           Sex    string\n",
       "4           Age    double\n",
       "5         SibSp       int\n",
       "6         Parch       int\n",
       "7        Ticket    string\n",
       "8          Fare    double\n",
       "9         Cabin    string\n",
       "10     Embarked    string\n",
       "11     Survived       int"
      ]
     },
     "execution_count": 7,
     "metadata": {},
     "output_type": "execute_result"
    }
   ],
   "source": [
    "pd.DataFrame(data.dtypes, columns = ['Column','Data type'])"
   ]
  },
  {
   "cell_type": "markdown",
   "metadata": {
    "id": "x6_4JDJn-4k0"
   },
   "source": [
    "##### **Preview the first five rows**"
   ]
  },
  {
   "cell_type": "code",
   "execution_count": 8,
   "metadata": {
    "colab": {
     "base_uri": "https://localhost:8080/"
    },
    "id": "J2NHjhr0vaEP",
    "outputId": "d035b6e1-a76f-4795-ce09-47f9fffae262"
   },
   "outputs": [
    {
     "name": "stdout",
     "output_type": "stream",
     "text": [
      "+-----------+------+--------------------+------+----+-----+-----+----------------+-------+-----+--------+--------+\n",
      "|PassengerId|Pclass|                Name|   Sex| Age|SibSp|Parch|          Ticket|   Fare|Cabin|Embarked|Survived|\n",
      "+-----------+------+--------------------+------+----+-----+-----+----------------+-------+-----+--------+--------+\n",
      "|          1|     3|Braund, Mr. Owen ...|  male|22.0|    1|    0|       A/5 21171|   7.25| null|       S|       0|\n",
      "|          2|     1|Cumings, Mrs. Joh...|female|38.0|    1|    0|        PC 17599|71.2833|  C85|       C|       1|\n",
      "|          3|     3|Heikkinen, Miss. ...|female|26.0|    0|    0|STON/O2. 3101282|  7.925| null|       S|       1|\n",
      "|          4|     1|Futrelle, Mrs. Ja...|female|35.0|    1|    0|          113803|   53.1| C123|       S|       1|\n",
      "|          5|     3|Allen, Mr. Willia...|  male|35.0|    0|    0|          373450|   8.05| null|       S|       0|\n",
      "+-----------+------+--------------------+------+----+-----+-----+----------------+-------+-----+--------+--------+\n",
      "only showing top 5 rows\n",
      "\n"
     ]
    }
   ],
   "source": [
    "data.show(5)"
   ]
  },
  {
   "cell_type": "markdown",
   "metadata": {
    "id": "RRsiuUvr-9i2"
   },
   "source": [
    "##### **Summary statistics of the data set**"
   ]
  },
  {
   "cell_type": "code",
   "execution_count": 9,
   "metadata": {
    "colab": {
     "base_uri": "https://localhost:8080/"
    },
    "id": "3obiKdz5-gk_",
    "outputId": "4a5588fc-6230-4051-d04f-6aed1a1f32c5"
   },
   "outputs": [
    {
     "name": "stdout",
     "output_type": "stream",
     "text": [
      "+-------+-----------------+------------------+--------------------+------+------------------+------------------+-------------------+------------------+-----------------+-----+--------+-------------------+\n",
      "|summary|      PassengerId|            Pclass|                Name|   Sex|               Age|             SibSp|              Parch|            Ticket|             Fare|Cabin|Embarked|           Survived|\n",
      "+-------+-----------------+------------------+--------------------+------+------------------+------------------+-------------------+------------------+-----------------+-----+--------+-------------------+\n",
      "|  count|              891|               891|                 891|   891|               714|               891|                891|               891|              891|  204|     889|                891|\n",
      "|   mean|            446.0| 2.308641975308642|                null|  null| 29.69911764705882|0.5230078563411896|0.38159371492704824|260318.54916792738| 32.2042079685746| null|    null| 0.3838383838383838|\n",
      "| stddev|257.3538420152301|0.8360712409770491|                null|  null|14.526497332334035|1.1027434322934315| 0.8060572211299488|471609.26868834975|49.69342859718089| null|    null|0.48659245426485753|\n",
      "|    min|                1|                 1|\"Andersson, Mr. A...|female|              0.42|                 0|                  0|            110152|              0.0|  A10|       C|                  0|\n",
      "|    max|              891|                 3|van Melkebeke, Mr...|  male|              80.0|                 8|                  6|         WE/P 5735|         512.3292|    T|       S|                  1|\n",
      "+-------+-----------------+------------------+--------------------+------+------------------+------------------+-------------------+------------------+-----------------+-----+--------+-------------------+\n",
      "\n"
     ]
    }
   ],
   "source": [
    "data.describe().show()"
   ]
  },
  {
   "cell_type": "markdown",
   "metadata": {
    "id": "b5yl-ZdIn2E0"
   },
   "source": [
    "### **Data Pre-Processing & Cleaning**"
   ]
  },
  {
   "cell_type": "markdown",
   "metadata": {
    "id": "A7wxXRUTkB8X"
   },
   "source": [
    "##### **Adding \"Title\" column in the data**\n",
    "\n",
    "The data frame has Name column which have names of every passenger who were onboard in the titanic, this column will be used to extract the Title from it so that it will be further used in the analysis."
   ]
  },
  {
   "cell_type": "code",
   "execution_count": 10,
   "metadata": {
    "id": "dRO6Dfa7kX69"
   },
   "outputs": [],
   "source": [
    "titles = regexp_extract(col(\"Name\"),\"([A-Za-z]+)\\.\",1)\n",
    "data = data.withColumn('Title', titles)"
   ]
  },
  {
   "cell_type": "code",
   "execution_count": 11,
   "metadata": {
    "colab": {
     "base_uri": "https://localhost:8080/"
    },
    "id": "7pUdit7Vlduz",
    "outputId": "ce4ab118-ef0b-464c-c304-231cef633957"
   },
   "outputs": [
    {
     "name": "stdout",
     "output_type": "stream",
     "text": [
      "+--------+-----+\n",
      "|   Title|count|\n",
      "+--------+-----+\n",
      "|     Don|    1|\n",
      "|    Miss|  182|\n",
      "|Countess|    1|\n",
      "|     Col|    2|\n",
      "|     Rev|    6|\n",
      "|    Lady|    1|\n",
      "|  Master|   40|\n",
      "|     Mme|    1|\n",
      "|    Capt|    1|\n",
      "|      Mr|  517|\n",
      "|      Dr|    7|\n",
      "|     Mrs|  125|\n",
      "|     Sir|    1|\n",
      "|Jonkheer|    1|\n",
      "|    Mlle|    2|\n",
      "|   Major|    2|\n",
      "|      Ms|    1|\n",
      "+--------+-----+\n",
      "\n"
     ]
    }
   ],
   "source": [
    "data.groupby(\"Title\").count().show()"
   ]
  },
  {
   "cell_type": "markdown",
   "metadata": {
    "id": "hWr_xTPnl6YI"
   },
   "source": [
    "We can see that majority of the titles are correctly extracted with a few titles that can belong to \"Officer\" category (such as Capt, Col, etc.). We also create \"Others\" category which can include Dr, Rev', etc. Moreover we merge those rows which are similar (such as \"Miss\" and \"Ms\"), and drop those rows with unknown titles (such as Countess)."
   ]
  },
  {
   "cell_type": "code",
   "execution_count": 12,
   "metadata": {
    "id": "ZDp4Dhul1lQA"
   },
   "outputs": [],
   "source": [
    "data = data.replace(['Capt', 'Col', 'Major', 'Dr', 'Rev', 'Lady', 'Sir', 'Ms'], \n",
    "             ['Officer', 'Officer', 'Officer', 'Other', 'Other', 'Miss', 'Mr', 'Miss'])\n",
    "\n",
    "data = data.filter((data['Title'] != 'Don') & (data['Title'] != 'Countess') & (data['Title'] != 'Mme') & \n",
    "                  (data['Title'] != 'Jonkheer') & (data['Title'] != 'Mlle'))"
   ]
  },
  {
   "cell_type": "code",
   "execution_count": 13,
   "metadata": {
    "colab": {
     "base_uri": "https://localhost:8080/"
    },
    "id": "g4jYITV_5w10",
    "outputId": "033f18a8-970d-427b-bb15-1fcc4a40211b"
   },
   "outputs": [
    {
     "name": "stdout",
     "output_type": "stream",
     "text": [
      "+-------+-----+\n",
      "|  Title|count|\n",
      "+-------+-----+\n",
      "|   Miss|  184|\n",
      "|Officer|    5|\n",
      "|  Other|   13|\n",
      "| Master|   40|\n",
      "|     Mr|  518|\n",
      "|    Mrs|  125|\n",
      "+-------+-----+\n",
      "\n"
     ]
    }
   ],
   "source": [
    "data.groupby(\"Title\").count().show()"
   ]
  },
  {
   "cell_type": "markdown",
   "metadata": {
    "id": "EH-aqtjt5412"
   },
   "source": [
    "We can see now that we have filtered the titles and we are left with 6 categories."
   ]
  },
  {
   "cell_type": "markdown",
   "metadata": {
    "id": "OgA2cbOx79Sn"
   },
   "source": [
    "##### **Adding more category in title based on 'Parch' column**\n",
    "\n",
    "The title of 'Miss' was given to all females who were unmarried, regardless of their age. However, within this group of unmarried females, there were both young girls and adult women who likely had significantly different average ages.\n",
    "\n",
    "We can use a logical approach to differentiate between the two situations. If the value of Parch is greater than 0, it's probable that the females are children who are traveling with at least one parent. In this case, we can refer to them as 'Miss_Ch.' On the other hand, if the value of Parch is equal to 0, it's likely that the females are adult women traveling alone. We can designate them as 'Miss_Ad.'"
   ]
  },
  {
   "cell_type": "code",
   "execution_count": 14,
   "metadata": {
    "id": "J4UTSTti9iFV"
   },
   "outputs": [],
   "source": [
    "data = data.withColumn(\"NewTitle\", when((data.Title==\"Miss\") & (data.Parch==0), 'Miss_Ad')\n",
    ".when((data.Title==\"Miss\") & (data.Parch!=0), 'Miss_Ch')\n",
    ".otherwise(data['Title']))"
   ]
  },
  {
   "cell_type": "code",
   "execution_count": 15,
   "metadata": {
    "colab": {
     "base_uri": "https://localhost:8080/"
    },
    "id": "5Kkmx5Nb94Ih",
    "outputId": "ca682dad-584f-44dd-c87e-ddb7fecc7b77"
   },
   "outputs": [
    {
     "name": "stdout",
     "output_type": "stream",
     "text": [
      "+--------+-----+\n",
      "|NewTitle|count|\n",
      "+--------+-----+\n",
      "| Officer|    5|\n",
      "|   Other|   13|\n",
      "|  Master|   40|\n",
      "| Miss_Ad|  120|\n",
      "|      Mr|  518|\n",
      "|     Mrs|  125|\n",
      "| Miss_Ch|   64|\n",
      "+--------+-----+\n",
      "\n"
     ]
    }
   ],
   "source": [
    "data.groupby(\"NewTitle\").count().show()"
   ]
  },
  {
   "cell_type": "markdown",
   "metadata": {
    "id": "4oUaEa1lJ1Mr"
   },
   "source": [
    "##### **Count of null/na entries in all of the columns**"
   ]
  },
  {
   "cell_type": "code",
   "execution_count": 16,
   "metadata": {
    "colab": {
     "base_uri": "https://localhost:8080/"
    },
    "id": "y05QZb0THesy",
    "outputId": "cace321e-edc6-4616-ea67-4f0554f02a26"
   },
   "outputs": [
    {
     "name": "stdout",
     "output_type": "stream",
     "text": [
      "+-----------+------+----+---+---+-----+-----+------+----+-----+--------+--------+-----+--------+\n",
      "|PassengerId|Pclass|Name|Sex|Age|SibSp|Parch|Ticket|Fare|Cabin|Embarked|Survived|Title|NewTitle|\n",
      "+-----------+------+----+---+---+-----+-----+------+----+-----+--------+--------+-----+--------+\n",
      "|          0|     0|   0|  0|177|    0|    0|     0|   0|  685|       2|       0|    0|       0|\n",
      "+-----------+------+----+---+---+-----+-----+------+----+-----+--------+--------+-----+--------+\n",
      "\n"
     ]
    }
   ],
   "source": [
    "nullStats = data.select([count(when(isnan(col(column)) | col(column).isNull(), column)).alias(column) for column in data.columns])\n",
    "nullStats.show()"
   ]
  },
  {
   "cell_type": "markdown",
   "metadata": {
    "id": "hz8XbT4FJ_6n"
   },
   "source": [
    "We can see that there are quite a lot of missing entries in the 'Age' and 'Cabin' column with 177 missing values in the Age column and 687 missing values in the Cabin column. Whereas 'Embarked' column has only two missing entries."
   ]
  },
  {
   "cell_type": "markdown",
   "metadata": {
    "id": "kVUB9-UUSTLy"
   },
   "source": [
    "##### **Imputing missing values in the 'Age' column**\n",
    "\n",
    "Since Age is an important feature for this project, therefore it was important to perform the previous step in which we created new column named NewTitle, it was important for this step since we will now be imputing the missing value of Age based on the mean value of the grouped \"NewTitle\", and \"PClass\" hence getting the missing values with higher certainity of being correct."
   ]
  },
  {
   "cell_type": "code",
   "execution_count": 17,
   "metadata": {
    "id": "MuuR7-cWSX9d"
   },
   "outputs": [],
   "source": [
    "groupAges = data.groupby(['NewTitle', 'Pclass']).avg(('Age')).collect()"
   ]
  },
  {
   "cell_type": "code",
   "execution_count": 18,
   "metadata": {
    "id": "dSFZrRMKMR4T"
   },
   "outputs": [],
   "source": [
    "groupAgesDict = {}\n",
    "for row in groupAges:\n",
    "  key = (row.NewTitle, row.Pclass)\n",
    "  value = row[\"avg(Age)\"]\n",
    "  if key not in groupAgesDict:\n",
    "      groupAgesDict[key] = value\n",
    "  else:\n",
    "      groupAgesDict[key].append(value)"
   ]
  },
  {
   "cell_type": "code",
   "execution_count": 19,
   "metadata": {
    "id": "WKY8t4rGDx9I"
   },
   "outputs": [],
   "source": [
    "index = 1\n",
    "for (title, pclass), imputed_age in groupAgesDict.items():\n",
    "  data = data.withColumn(\n",
    "      \"AgeImputed_\" + str(index) ,\n",
    "      when(\n",
    "          (data['NewTitle'] == title) &\n",
    "          (data['Pclass'] == pclass) &\n",
    "          (data['Age'].isNull()), imputed_age\n",
    "      ).otherwise(data.Age)\n",
    "  )\n",
    "  index = index + 1\n",
    "  "
   ]
  },
  {
   "cell_type": "code",
   "execution_count": 20,
   "metadata": {
    "id": "iQNbfRAXjgEf"
   },
   "outputs": [],
   "source": [
    "data = data.withColumn(\"AgeFilled\", coalesce('AgeImputed_1', 'AgeImputed_2', 'AgeImputed_3', 'AgeImputed_4', 'AgeImputed_5',\n",
    "                                             'AgeImputed_6', 'AgeImputed_7', 'AgeImputed_8', 'AgeImputed_9', 'AgeImputed_10',\n",
    "                                             'AgeImputed_11', 'AgeImputed_12', 'AgeImputed_13', 'AgeImputed_14',\n",
    "                                             'AgeImputed_15', 'AgeImputed_16', 'AgeImputed_17', 'AgeImputed_18'))"
   ]
  },
  {
   "cell_type": "code",
   "execution_count": 21,
   "metadata": {
    "colab": {
     "base_uri": "https://localhost:8080/"
    },
    "id": "uyOdrqaVh7bE",
    "outputId": "09ae93ff-3bb8-45a3-93f1-3652eefe5179"
   },
   "outputs": [
    {
     "name": "stdout",
     "output_type": "stream",
     "text": [
      "+-----------+------+--------------------+------+----+-----+-----+----------------+-------+-----+--------+--------+------+--------+------------------+------------+------------+------------+------------+------------+------------+------------+------------+-----------------+-------------+-------------+-------------+------------------+-------------+-------------+-------------+-------------+------------------+\n",
      "|PassengerId|Pclass|                Name|   Sex| Age|SibSp|Parch|          Ticket|   Fare|Cabin|Embarked|Survived| Title|NewTitle|      AgeImputed_1|AgeImputed_2|AgeImputed_3|AgeImputed_4|AgeImputed_5|AgeImputed_6|AgeImputed_7|AgeImputed_8|AgeImputed_9|    AgeImputed_10|AgeImputed_11|AgeImputed_12|AgeImputed_13|     AgeImputed_14|AgeImputed_15|AgeImputed_16|AgeImputed_17|AgeImputed_18|         AgeFilled|\n",
      "+-----------+------+--------------------+------+----+-----+-----+----------------+-------+-----+--------+--------+------+--------+------------------+------------+------------+------------+------------+------------+------------+------------+------------+-----------------+-------------+-------------+-------------+------------------+-------------+-------------+-------------+-------------+------------------+\n",
      "|          1|     3|Braund, Mr. Owen ...|  male|22.0|    1|    0|       A/5 21171|   7.25| null|       S|       0|    Mr|      Mr|              22.0|        22.0|        22.0|        22.0|        22.0|        22.0|        22.0|        22.0|        22.0|             22.0|         22.0|         22.0|         22.0|              22.0|         22.0|         22.0|         22.0|         22.0|              22.0|\n",
      "|          2|     1|Cumings, Mrs. Joh...|female|38.0|    1|    0|        PC 17599|71.2833|  C85|       C|       1|   Mrs|     Mrs|              38.0|        38.0|        38.0|        38.0|        38.0|        38.0|        38.0|        38.0|        38.0|             38.0|         38.0|         38.0|         38.0|              38.0|         38.0|         38.0|         38.0|         38.0|              38.0|\n",
      "|          3|     3|Heikkinen, Miss. ...|female|26.0|    0|    0|STON/O2. 3101282|  7.925| null|       S|       1|  Miss| Miss_Ad|              26.0|        26.0|        26.0|        26.0|        26.0|        26.0|        26.0|        26.0|        26.0|             26.0|         26.0|         26.0|         26.0|              26.0|         26.0|         26.0|         26.0|         26.0|              26.0|\n",
      "|          4|     1|Futrelle, Mrs. Ja...|female|35.0|    1|    0|          113803|   53.1| C123|       S|       1|   Mrs|     Mrs|              35.0|        35.0|        35.0|        35.0|        35.0|        35.0|        35.0|        35.0|        35.0|             35.0|         35.0|         35.0|         35.0|              35.0|         35.0|         35.0|         35.0|         35.0|              35.0|\n",
      "|          5|     3|Allen, Mr. Willia...|  male|35.0|    0|    0|          373450|   8.05| null|       S|       0|    Mr|      Mr|              35.0|        35.0|        35.0|        35.0|        35.0|        35.0|        35.0|        35.0|        35.0|             35.0|         35.0|         35.0|         35.0|              35.0|         35.0|         35.0|         35.0|         35.0|              35.0|\n",
      "|          6|     3|    Moran, Mr. James|  male|null|    0|    0|          330877| 8.4583| null|       Q|       0|    Mr|      Mr|              null|        null|        null|        null|        null|        null|        null|        null|        null|             null|         null|         null|         null|28.724890829694324|         null|         null|         null|         null|28.724890829694324|\n",
      "|          7|     1|McCarthy, Mr. Tim...|  male|54.0|    0|    0|           17463|51.8625|  E46|       S|       0|    Mr|      Mr|              54.0|        54.0|        54.0|        54.0|        54.0|        54.0|        54.0|        54.0|        54.0|             54.0|         54.0|         54.0|         54.0|              54.0|         54.0|         54.0|         54.0|         54.0|              54.0|\n",
      "|          8|     3|Palsson, Master. ...|  male| 2.0|    3|    1|          349909| 21.075| null|       S|       0|Master|  Master|               2.0|         2.0|         2.0|         2.0|         2.0|         2.0|         2.0|         2.0|         2.0|              2.0|          2.0|          2.0|          2.0|               2.0|          2.0|          2.0|          2.0|          2.0|               2.0|\n",
      "|          9|     3|Johnson, Mrs. Osc...|female|27.0|    0|    2|          347742|11.1333| null|       S|       1|   Mrs|     Mrs|              27.0|        27.0|        27.0|        27.0|        27.0|        27.0|        27.0|        27.0|        27.0|             27.0|         27.0|         27.0|         27.0|              27.0|         27.0|         27.0|         27.0|         27.0|              27.0|\n",
      "|         10|     2|Nasser, Mrs. Nich...|female|14.0|    1|    0|          237736|30.0708| null|       C|       1|   Mrs|     Mrs|              14.0|        14.0|        14.0|        14.0|        14.0|        14.0|        14.0|        14.0|        14.0|             14.0|         14.0|         14.0|         14.0|              14.0|         14.0|         14.0|         14.0|         14.0|              14.0|\n",
      "|         11|     3|Sandstrom, Miss. ...|female| 4.0|    1|    1|         PP 9549|   16.7|   G6|       S|       1|  Miss| Miss_Ch|               4.0|         4.0|         4.0|         4.0|         4.0|         4.0|         4.0|         4.0|         4.0|              4.0|          4.0|          4.0|          4.0|               4.0|          4.0|          4.0|          4.0|          4.0|               4.0|\n",
      "|         12|     1|Bonnell, Miss. El...|female|58.0|    0|    0|          113783|  26.55| C103|       S|       1|  Miss| Miss_Ad|              58.0|        58.0|        58.0|        58.0|        58.0|        58.0|        58.0|        58.0|        58.0|             58.0|         58.0|         58.0|         58.0|              58.0|         58.0|         58.0|         58.0|         58.0|              58.0|\n",
      "|         13|     3|Saundercock, Mr. ...|  male|20.0|    0|    0|       A/5. 2151|   8.05| null|       S|       0|    Mr|      Mr|              20.0|        20.0|        20.0|        20.0|        20.0|        20.0|        20.0|        20.0|        20.0|             20.0|         20.0|         20.0|         20.0|              20.0|         20.0|         20.0|         20.0|         20.0|              20.0|\n",
      "|         14|     3|Andersson, Mr. An...|  male|39.0|    1|    5|          347082| 31.275| null|       S|       0|    Mr|      Mr|              39.0|        39.0|        39.0|        39.0|        39.0|        39.0|        39.0|        39.0|        39.0|             39.0|         39.0|         39.0|         39.0|              39.0|         39.0|         39.0|         39.0|         39.0|              39.0|\n",
      "|         15|     3|Vestrom, Miss. Hu...|female|14.0|    0|    0|          350406| 7.8542| null|       S|       0|  Miss| Miss_Ad|              14.0|        14.0|        14.0|        14.0|        14.0|        14.0|        14.0|        14.0|        14.0|             14.0|         14.0|         14.0|         14.0|              14.0|         14.0|         14.0|         14.0|         14.0|              14.0|\n",
      "|         16|     2|Hewlett, Mrs. (Ma...|female|55.0|    0|    0|          248706|   16.0| null|       S|       1|   Mrs|     Mrs|              55.0|        55.0|        55.0|        55.0|        55.0|        55.0|        55.0|        55.0|        55.0|             55.0|         55.0|         55.0|         55.0|              55.0|         55.0|         55.0|         55.0|         55.0|              55.0|\n",
      "|         17|     3|Rice, Master. Eugene|  male| 2.0|    4|    1|          382652| 29.125| null|       Q|       0|Master|  Master|               2.0|         2.0|         2.0|         2.0|         2.0|         2.0|         2.0|         2.0|         2.0|              2.0|          2.0|          2.0|          2.0|               2.0|          2.0|          2.0|          2.0|          2.0|               2.0|\n",
      "|         18|     2|Williams, Mr. Cha...|  male|null|    0|    0|          244373|   13.0| null|       S|       1|    Mr|      Mr|              null|        null|        null|        null|        null|        null|        null|        null|        null|32.76829268292683|         null|         null|         null|              null|         null|         null|         null|         null| 32.76829268292683|\n",
      "|         19|     3|Vander Planke, Mr...|female|31.0|    1|    0|          345763|   18.0| null|       S|       0|   Mrs|     Mrs|              31.0|        31.0|        31.0|        31.0|        31.0|        31.0|        31.0|        31.0|        31.0|             31.0|         31.0|         31.0|         31.0|              31.0|         31.0|         31.0|         31.0|         31.0|              31.0|\n",
      "|         20|     3|Masselmani, Mrs. ...|female|null|    0|    0|            2649|  7.225| null|       C|       1|   Mrs|     Mrs|33.515151515151516|        null|        null|        null|        null|        null|        null|        null|        null|             null|         null|         null|         null|              null|         null|         null|         null|         null|33.515151515151516|\n",
      "+-----------+------+--------------------+------+----+-----+-----+----------------+-------+-----+--------+--------+------+--------+------------------+------------+------------+------------+------------+------------+------------+------------+------------+-----------------+-------------+-------------+-------------+------------------+-------------+-------------+-------------+-------------+------------------+\n",
      "only showing top 20 rows\n",
      "\n"
     ]
    }
   ],
   "source": [
    "data.show()"
   ]
  },
  {
   "cell_type": "markdown",
   "metadata": {
    "id": "K9lOY2m2mE7h"
   },
   "source": [
    "Dropping the columns created in between to clean the data frame."
   ]
  },
  {
   "cell_type": "code",
   "execution_count": 22,
   "metadata": {
    "id": "iWCeTLhjkZfg"
   },
   "outputs": [],
   "source": [
    "data = data.drop('Age', 'Title', 'AgeImputed_1', 'AgeImputed_2', 'AgeImputed_3', 'AgeImputed_4', 'AgeImputed_5','AgeImputed_6',\n",
    "                 'AgeImputed_7', 'AgeImputed_8', 'AgeImputed_9', 'AgeImputed_10', 'AgeImputed_11', 'AgeImputed_12',\n",
    "                 'AgeImputed_13', 'AgeImputed_14', 'AgeImputed_15', 'AgeImputed_16', 'AgeImputed_17', 'AgeImputed_18')"
   ]
  },
  {
   "cell_type": "code",
   "execution_count": 23,
   "metadata": {
    "colab": {
     "base_uri": "https://localhost:8080/"
    },
    "id": "llMzq7AUCbUm",
    "outputId": "f86d918b-4f00-44e7-8a63-326d140a9448"
   },
   "outputs": [
    {
     "name": "stdout",
     "output_type": "stream",
     "text": [
      "+-----------+------+----+---+-----+-----+------+----+-----+--------+--------+--------+---------+\n",
      "|PassengerId|Pclass|Name|Sex|SibSp|Parch|Ticket|Fare|Cabin|Embarked|Survived|NewTitle|AgeFilled|\n",
      "+-----------+------+----+---+-----+-----+------+----+-----+--------+--------+--------+---------+\n",
      "|          0|     0|   0|  0|    0|    0|     0|   0|  685|       2|       0|       0|        0|\n",
      "+-----------+------+----+---+-----+-----+------+----+-----+--------+--------+--------+---------+\n",
      "\n"
     ]
    }
   ],
   "source": [
    "nullStats = data.select([count(when(isnan(col(column)) | col(column).isNull(), column)).alias(column) for column in data.columns])\n",
    "nullStats.show()"
   ]
  },
  {
   "cell_type": "markdown",
   "metadata": {
    "id": "H3o8GfQhRlYz"
   },
   "source": [
    "##### **Imputing missing values in the 'Embarked' column**\n",
    "\n",
    "Since this feature has only two missing values, therefore we will impute the missing values using the mode of the column. And we can see in the below cell that the mode value of this columns is 'S', therefore we will replace null values in this column by the value \"S\"."
   ]
  },
  {
   "cell_type": "code",
   "execution_count": 24,
   "metadata": {
    "colab": {
     "base_uri": "https://localhost:8080/"
    },
    "id": "I-KtUJAHRsXL",
    "outputId": "679992fd-b4db-49c3-ce05-91c3f0accd12"
   },
   "outputs": [
    {
     "name": "stdout",
     "output_type": "stream",
     "text": [
      "+--------+-----+\n",
      "|Embarked|count|\n",
      "+--------+-----+\n",
      "|       Q|   77|\n",
      "|    null|    2|\n",
      "|       C|  164|\n",
      "|       S|  642|\n",
      "+--------+-----+\n",
      "\n"
     ]
    }
   ],
   "source": [
    "data.groupby(\"Embarked\").count().show()"
   ]
  },
  {
   "cell_type": "code",
   "execution_count": 25,
   "metadata": {
    "id": "mfKYpafyRqxz"
   },
   "outputs": [],
   "source": [
    "data = data.na.fill({\"Embarked\" : 'S'})"
   ]
  },
  {
   "cell_type": "markdown",
   "metadata": {
    "id": "BSU0WeZAKeLm"
   },
   "source": [
    "##### **Count of duplicate rows in the data set**"
   ]
  },
  {
   "cell_type": "code",
   "execution_count": 26,
   "metadata": {
    "colab": {
     "base_uri": "https://localhost:8080/"
    },
    "id": "WPNHdMz9KoOT",
    "outputId": "fb879666-2c97-45bd-a228-c0f5a6510aaf"
   },
   "outputs": [
    {
     "name": "stdout",
     "output_type": "stream",
     "text": [
      "+-----------+\n",
      "|total_count|\n",
      "+-----------+\n",
      "|       null|\n",
      "+-----------+\n",
      "\n"
     ]
    }
   ],
   "source": [
    "results = data.groupBy(data.columns)\\\n",
    "            .agg(expr('count(*) as count'))\\\n",
    "            .filter(expr('count > 1'))\\\n",
    "            .select(sum('count').alias('total_count'))\n",
    "\n",
    "results.show()"
   ]
  },
  {
   "cell_type": "markdown",
   "metadata": {
    "id": "uz2jdVwVLH9N"
   },
   "source": [
    "We can see that the output shows us that there are no duplicate entries in the dataset"
   ]
  },
  {
   "cell_type": "markdown",
   "metadata": {
    "id": "OVGt44RvWEfg"
   },
   "source": [
    "### **Data Visualization & Analysis**\n",
    "\n",
    "In this part of the notebook, we will try to analyse the different variables in the dataset with Survival variable to get how it is correlated with  different features such as 'Sex', 'Fare', 'Pclass', 'Cabin', etc."
   ]
  },
  {
   "cell_type": "markdown",
   "metadata": {
    "id": "IUBjYXW9Uv7k"
   },
   "source": [
    "##### **Number of passengers based on Sex**"
   ]
  },
  {
   "cell_type": "code",
   "execution_count": 27,
   "metadata": {
    "id": "BqwrgrV_U0NR"
   },
   "outputs": [],
   "source": [
    "passengerCount = data.groupby(\"Sex\").count()"
   ]
  },
  {
   "cell_type": "code",
   "execution_count": 28,
   "metadata": {
    "colab": {
     "base_uri": "https://localhost:8080/",
     "height": 369
    },
    "id": "VQDxNCvdVPvg",
    "outputId": "b74c7e60-a241-487c-c59c-6373cce07f89"
   },
   "outputs": [
    {
     "data": {
      "image/png": "[encoded data removed]",
      "text/plain": [
       "<Figure size 400x500 with 1 Axes>"
      ]
     },
     "metadata": {},
     "output_type": "display_data"
    }
   ],
   "source": [
    "passengerCount.toPandas().plot(kind = 'pie', y = 'count', labels = ['Female', 'Male'], figsize = (4,5),\n",
    "                               title = 'Passenger Percentage based on Sex', legend=False, autopct='%1.1f%%', \n",
    "                               shadow=True, startangle=0, cmap = 'Paired')\n",
    "plt.ylabel('')\n",
    "plt.show()"
   ]
  },
  {
   "cell_type": "markdown",
   "metadata": {
    "id": "FnRx-32KWsRv"
   },
   "source": [
    "We can see that there is a high percentage of people who are Male which is 65%, whereas only 35% of the passengers were females in Titanic."
   ]
  },
  {
   "cell_type": "markdown",
   "metadata": {
    "id": "B6Ghq8KQWEdC"
   },
   "source": [
    "##### **Survival rate based on Sex**"
   ]
  },
  {
   "cell_type": "code",
   "execution_count": 29,
   "metadata": {
    "id": "Y1bkVZb6WEZz"
   },
   "outputs": [],
   "source": [
    "sexSurvival = data.groupBy(\"Sex\",\"Survived\").count()\n",
    "sexSurvival = sexSurvival.withColumn('percentage', round(sexSurvival['count']/data.count() * 100, 2))"
   ]
  },
  {
   "cell_type": "code",
   "execution_count": 30,
   "metadata": {
    "colab": {
     "base_uri": "https://localhost:8080/"
    },
    "id": "86LSe9gZWETK",
    "outputId": "e8cb7c0a-ca63-42ef-d476-92cc09db7fbb"
   },
   "outputs": [
    {
     "name": "stdout",
     "output_type": "stream",
     "text": [
      "+------+--------+-----+----------+\n",
      "|   Sex|Survived|count|percentage|\n",
      "+------+--------+-----+----------+\n",
      "|  male|       0|  466|     52.66|\n",
      "|female|       1|  229|     25.88|\n",
      "|female|       0|   81|      9.15|\n",
      "|  male|       1|  109|     12.32|\n",
      "+------+--------+-----+----------+\n",
      "\n"
     ]
    }
   ],
   "source": [
    "sexSurvival.show()"
   ]
  },
  {
   "cell_type": "markdown",
   "metadata": {
    "id": "8eWVS1vQWEQc"
   },
   "source": [
    "From the above table, we can see that more than 50% of the total passengers were not survived in Titanic and only 12.32% of the males were survived. Despite having a smaller proportion of the females, around 26% of them were survived only 9.15% couldn't survive. This means that overall, the survival rate of females was higher than males."
   ]
  },
  {
   "cell_type": "markdown",
   "metadata": {
    "id": "NS9UIuAoWEM-"
   },
   "source": [
    "##### **Number of passengers based on Age Groups**"
   ]
  },
  {
   "cell_type": "code",
   "execution_count": 31,
   "metadata": {
    "id": "0Dh2EmFyWEFL"
   },
   "outputs": [],
   "source": [
    "pdData = data.toPandas()"
   ]
  },
  {
   "cell_type": "code",
   "execution_count": 32,
   "metadata": {
    "colab": {
     "base_uri": "https://localhost:8080/",
     "height": 487
    },
    "id": "lSbqm-t7WD4u",
    "outputId": "2994b0b3-5540-4d0d-fa4d-d0e7c3081a93"
   },
   "outputs": [
    {
     "data": {
      "image/png": "[encoded data removed]",
      "text/plain": [
       "<Figure size 700x500 with 1 Axes>"
      ]
     },
     "metadata": {},
     "output_type": "display_data"
    }
   ],
   "source": [
    "plt.figure(figsize = (7,5))\n",
    "sns.histplot(x = pdData[\"AgeFilled\"], hue = pdData[\"Survived\"], multiple = \"dodge\", bins = 10)\n",
    "plt.title('Survival rate based on age group')\n",
    "plt.xlabel('Age Groups')\n",
    "plt.ylabel('Passenger count')\n",
    "plt.show()"
   ]
  },
  {
   "cell_type": "markdown",
   "metadata": {
    "id": "zxf_a40_eEc2"
   },
   "source": [
    "##### **Number of passengers based on Embarked**"
   ]
  },
  {
   "cell_type": "code",
   "execution_count": 33,
   "metadata": {
    "id": "vLeKQP6JeEc2"
   },
   "outputs": [],
   "source": [
    "passengerCount = data.groupby(\"Embarked\").count()"
   ]
  },
  {
   "cell_type": "code",
   "execution_count": 34,
   "metadata": {
    "colab": {
     "base_uri": "https://localhost:8080/"
    },
    "id": "p7k8PXkNeI_O",
    "outputId": "87e82353-6786-4d75-dd18-1873043b6b72"
   },
   "outputs": [
    {
     "name": "stdout",
     "output_type": "stream",
     "text": [
      "+--------+-----+\n",
      "|Embarked|count|\n",
      "+--------+-----+\n",
      "|       Q|   77|\n",
      "|       C|  164|\n",
      "|       S|  644|\n",
      "+--------+-----+\n",
      "\n"
     ]
    }
   ],
   "source": [
    "passengerCount.show()"
   ]
  },
  {
   "cell_type": "code",
   "execution_count": 35,
   "metadata": {
    "colab": {
     "base_uri": "https://localhost:8080/",
     "height": 369
    },
    "id": "-poF7e_9eEc2",
    "outputId": "6737e25a-af92-44ed-efa0-d119a7c84184"
   },
   "outputs": [
    {
     "data": {
      "image/png": "[encoded data removed]",
      "text/plain": [
       "<Figure size 400x500 with 1 Axes>"
      ]
     },
     "metadata": {},
     "output_type": "display_data"
    }
   ],
   "source": [
    "passengerCount.toPandas().plot(kind = 'pie', y = 'count', labels = ['Q (Queenstown)', 'C (Cherbourg)', 'S (Southampton)'], \n",
    "                               figsize = (4,5), title = 'Passenger Percentage based on Embarked', legend=False,\n",
    "                               autopct='%1.1f%%', shadow=True, startangle=0, cmap = 'Paired')\n",
    "plt.ylabel('')\n",
    "plt.show()"
   ]
  },
  {
   "cell_type": "markdown",
   "metadata": {
    "id": "sz5sG62heWPR"
   },
   "source": [
    "We can see from the above pie-plot that more than 70% of the passenger embarked from Southampton, whereas 18.5% of the people embarked from Cherbourg, and only 8.7% of the people embarked from Queenstown."
   ]
  },
  {
   "cell_type": "markdown",
   "metadata": {
    "id": "-35LASU9cc7l"
   },
   "source": [
    "##### **Passenger Survival based on Embarked**"
   ]
  },
  {
   "cell_type": "code",
   "execution_count": 36,
   "metadata": {
    "id": "MFZAbYHUcc7l"
   },
   "outputs": [],
   "source": [
    "embarkedSurvival = data.groupby(\"Embarked\", \"Survived\").count()"
   ]
  },
  {
   "cell_type": "code",
   "execution_count": 37,
   "metadata": {
    "id": "bDIx2G7wc0Op"
   },
   "outputs": [],
   "source": [
    "embarkedSurvival = embarkedSurvival.withColumn('percentage', round(embarkedSurvival['count']/data.count() * 100, 2))"
   ]
  },
  {
   "cell_type": "code",
   "execution_count": 38,
   "metadata": {
    "colab": {
     "base_uri": "https://localhost:8080/"
    },
    "id": "8nflrP3GclC1",
    "outputId": "e3ab3134-92cf-4a5c-b52c-4b0869355cdf"
   },
   "outputs": [
    {
     "name": "stdout",
     "output_type": "stream",
     "text": [
      "+--------+--------+-----+----------+\n",
      "|Embarked|Survived|count|percentage|\n",
      "+--------+--------+-----+----------+\n",
      "|       Q|       1|   30|      3.39|\n",
      "|       S|       0|  426|     48.14|\n",
      "|       S|       1|  218|     24.63|\n",
      "|       C|       1|   90|     10.17|\n",
      "|       Q|       0|   47|      5.31|\n",
      "|       C|       0|   74|      8.36|\n",
      "+--------+--------+-----+----------+\n",
      "\n"
     ]
    }
   ],
   "source": [
    "embarkedSurvival.show()"
   ]
  },
  {
   "cell_type": "markdown",
   "metadata": {
    "id": "RYpV33YJfAsb"
   },
   "source": [
    "According to the available data, it appears that the passengers who embarked on the Titanic from Cherbourg had a significantly higher chance of survival compared to those who boarded from Southampton. In fact, the survival rate of those who boarded from Cherbourg was greater than 50%, indicating that a majority of them managed to survive the tragic event.\n",
    "\n",
    "On the other hand, travellers who boarded from Southampton had the lowest actual chance of survival, which was estimated to be around 33%. This suggests that the passengers who embarked from Southampton were at a significant disadvantage when it came to surviving the disaster."
   ]
  },
  {
   "cell_type": "markdown",
   "metadata": {
    "id": "IHegIyqyfl8Q"
   },
   "source": [
    "##### **Correlation Heatmap between different variables**"
   ]
  },
  {
   "cell_type": "code",
   "execution_count": 39,
   "metadata": {
    "colab": {
     "base_uri": "https://localhost:8080/",
     "height": 560
    },
    "id": "Nr9qMJO1SROH",
    "outputId": "1371ce17-3ce8-4ab5-eee7-a3ce9ea1bf4c"
   },
   "outputs": [
    {
     "name": "stderr",
     "output_type": "stream",
     "text": [
      "<ipython-input-39-d33d01acb8fa>:1: FutureWarning: The default value of numeric_only in DataFrame.corr is deprecated. In a future version, it will default to False. Select only valid columns or specify the value of numeric_only to silence this warning.\n",
      "  sns.heatmap(data.toPandas().corr(), cmap = 'viridis')\n"
     ]
    },
    {
     "data": {
      "image/png": "[encoded data removed]",
      "text/plain": [
       "<Figure size 640x480 with 2 Axes>"
      ]
     },
     "metadata": {},
     "output_type": "display_data"
    }
   ],
   "source": [
    "sns.heatmap(data.toPandas().corr(), cmap = 'viridis')\n",
    "plt.show()"
   ]
  },
  {
   "cell_type": "markdown",
   "metadata": {
    "id": "TWqjEHPVQLg3"
   },
   "source": [
    "### **Feature Selection**\n",
    "\n",
    "We will select only those columns that will be useful for us in performing the machine learning classification. Since it is reduntant and useless to include the features which don't add any value to the trained machine learning model, therefore we remove such columns. We remove 'PassengerId', 'Name', 'Ticket', and 'Cabin' from the data set."
   ]
  },
  {
   "cell_type": "code",
   "execution_count": 40,
   "metadata": {
    "id": "Bn3DIJUNQNdM"
   },
   "outputs": [],
   "source": [
    "data = data.drop('PassengerId', 'Name', 'Ticket', 'Cabin')"
   ]
  },
  {
   "cell_type": "code",
   "execution_count": 41,
   "metadata": {
    "colab": {
     "base_uri": "https://localhost:8080/"
    },
    "id": "wHNIMnf2REhU",
    "outputId": "7edf4b66-f31f-4114-e04e-5566d59eb40d"
   },
   "outputs": [
    {
     "name": "stdout",
     "output_type": "stream",
     "text": [
      "+------+------+-----+-----+-------+--------+--------+--------+---------+\n",
      "|Pclass|   Sex|SibSp|Parch|   Fare|Embarked|Survived|NewTitle|AgeFilled|\n",
      "+------+------+-----+-----+-------+--------+--------+--------+---------+\n",
      "|     3|  male|    1|    0|   7.25|       S|       0|      Mr|     22.0|\n",
      "|     1|female|    1|    0|71.2833|       C|       1|     Mrs|     38.0|\n",
      "|     3|female|    0|    0|  7.925|       S|       1| Miss_Ad|     26.0|\n",
      "|     1|female|    1|    0|   53.1|       S|       1|     Mrs|     35.0|\n",
      "|     3|  male|    0|    0|   8.05|       S|       0|      Mr|     35.0|\n",
      "+------+------+-----+-----+-------+--------+--------+--------+---------+\n",
      "only showing top 5 rows\n",
      "\n"
     ]
    }
   ],
   "source": [
    "data.show(5)"
   ]
  },
  {
   "cell_type": "markdown",
   "metadata": {
    "id": "QDTIMEhqfzKs"
   },
   "source": [
    "Since now we are only left with only a few rows which might have the null values, therefore we drop these rows"
   ]
  },
  {
   "cell_type": "code",
   "execution_count": 45,
   "metadata": {
    "id": "UoNvlxmARItW"
   },
   "outputs": [],
   "source": [
    "data = data.dropna()"
   ]
  },
  {
   "cell_type": "code",
   "execution_count": 44,
   "metadata": {
    "colab": {
     "base_uri": "https://localhost:8080/"
    },
    "id": "n3jPz4EbfwfN",
    "outputId": "2d9c34c1-8e27-4fb4-dbb6-dcd4466660f5"
   },
   "outputs": [
    {
     "name": "stdout",
     "output_type": "stream",
     "text": [
      "Length of data after dropping the rows with null values: 885\n"
     ]
    }
   ],
   "source": [
    "print('Length of data after dropping the rows with null values:', data.count())"
   ]
  },
  {
   "cell_type": "markdown",
   "metadata": {
    "id": "KNMhnk1IVYSZ"
   },
   "source": [
    "### **Machine Learning Classification**"
   ]
  },
  {
   "cell_type": "markdown",
   "metadata": {
    "id": "lw6ez-w4SyIW"
   },
   "source": [
    "##### **Creating Pipeline**\n",
    "\n",
    "This chunk of code has been referenced from: https://www.kaggle.com/code/dev523/pyspark-ml-model-for-predicting-titanic-passenger"
   ]
  },
  {
   "cell_type": "code",
   "execution_count": 47,
   "metadata": {
    "id": "5odasH-TUCgc"
   },
   "outputs": [],
   "source": [
    "stages = []\n",
    "categorical_columns = ['Sex', 'Embarked', 'Pclass', 'NewTitle']"
   ]
  },
  {
   "cell_type": "code",
   "execution_count": 48,
   "metadata": {
    "id": "C_DmU1FIOZxb"
   },
   "outputs": [],
   "source": [
    "for catCol in categorical_columns:\n",
    "  indexer = StringIndexer(inputCol = catCol, outputCol = catCol + 'Index', stringOrderType = 'frequencyDesc')\n",
    "  encoder = OneHotEncoder(inputCols = [indexer.getOutputCol()], outputCols = [catCol+'catVec'])\n",
    "  stages += [indexer, encoder]"
   ]
  },
  {
   "cell_type": "code",
   "execution_count": 49,
   "metadata": {
    "id": "c-Bg9Aw3Pu2G"
   },
   "outputs": [],
   "source": [
    "numeric=['Fare','SibSp','Parch','AgeFilled']"
   ]
  },
  {
   "cell_type": "code",
   "execution_count": 50,
   "metadata": {
    "id": "vd5GUxGlPuRn"
   },
   "outputs": [],
   "source": [
    "assembleInputs = [c + 'catVec' for c in categorical_columns] + numeric\n",
    "assembler = VectorAssembler(inputCols = assembleInputs, outputCol = \"features\")\n",
    "stages += [assembler]"
   ]
  },
  {
   "cell_type": "markdown",
   "metadata": {
    "id": "Zs0WVYl3Vc5E"
   },
   "source": [
    "##### **Train-Test Split**"
   ]
  },
  {
   "cell_type": "code",
   "execution_count": 51,
   "metadata": {
    "id": "-Mps57pUOZqP"
   },
   "outputs": [],
   "source": [
    "trainData, testData = data.randomSplit([0.8, 0.2], seed = 9) \n",
    "\n",
    "pipeline = Pipeline().setStages(stages)\n",
    "pipelineModel = pipeline.fit(trainData)"
   ]
  },
  {
   "cell_type": "code",
   "execution_count": 52,
   "metadata": {
    "id": "IplB_o5lV3Dt"
   },
   "outputs": [],
   "source": [
    "trainPipe = pipelineModel.transform(trainData)\n",
    "testPipe = pipelineModel.transform(testData)"
   ]
  },
  {
   "cell_type": "code",
   "execution_count": 60,
   "metadata": {
    "id": "zxZnTIRNPGy7"
   },
   "outputs": [],
   "source": [
    "from pyspark.ml.classification import RandomForestClassifier, LogisticRegression\n",
    "from pyspark.ml.evaluation import BinaryClassificationEvaluator\n",
    "from sklearn.metrics import classification_report"
   ]
  },
  {
   "cell_type": "markdown",
   "metadata": {
    "id": "AkrdRlEWVhiE"
   },
   "source": [
    "##### **Random Forest Classification**"
   ]
  },
  {
   "cell_type": "code",
   "execution_count": 54,
   "metadata": {
    "id": "aiEgsedHPT6F"
   },
   "outputs": [],
   "source": [
    "rf = RandomForestClassifier(labelCol = 'Survived', predictionCol = 'prediction', seed = 9)\n",
    "\n",
    "rfmodel = rf.fit(trainPipe)"
   ]
  },
  {
   "cell_type": "code",
   "execution_count": 55,
   "metadata": {
    "id": "Ja63PVFoPUEI"
   },
   "outputs": [],
   "source": [
    "pred_results_rf = rfmodel.transform(testPipe)"
   ]
  },
  {
   "cell_type": "markdown",
   "metadata": {
    "id": "4ZcAsCCOVmPT"
   },
   "source": [
    "##### **Test Prediction & Accuracy Assessment - Random Forest**"
   ]
  },
  {
   "cell_type": "code",
   "execution_count": 80,
   "metadata": {
    "colab": {
     "base_uri": "https://localhost:8080/"
    },
    "id": "SnutU-hiPUVF",
    "outputId": "543a95e6-efb1-49ef-9e73-ea4f90117975"
   },
   "outputs": [
    {
     "name": "stdout",
     "output_type": "stream",
     "text": [
      "The training accuracy of the model is: 0.8551\n"
     ]
    }
   ],
   "source": [
    "# For the Training Set\n",
    "summary = rfmodel.summary\n",
    "print('The training accuracy of the model is:', str(summary.accuracy)[0:6])"
   ]
  },
  {
   "cell_type": "code",
   "execution_count": 57,
   "metadata": {
    "id": "77waeBTkPUbd"
   },
   "outputs": [],
   "source": [
    "y_true = pred_results_rf.select(['Survived']).collect()\n",
    "y_pred = pred_results_rf.select(['prediction']).collect()"
   ]
  },
  {
   "cell_type": "code",
   "execution_count": 58,
   "metadata": {
    "colab": {
     "base_uri": "https://localhost:8080/"
    },
    "id": "_z8KQ--mPUez",
    "outputId": "f914bf19-27df-4003-f770-a15d68d0bc87"
   },
   "outputs": [
    {
     "name": "stdout",
     "output_type": "stream",
     "text": [
      "Classification Report for Random Forest:\n",
      "\n",
      "              precision    recall  f1-score   support\n",
      "\n",
      "           0       0.81      0.94      0.87        97\n",
      "           1       0.89      0.70      0.78        70\n",
      "\n",
      "    accuracy                           0.84       167\n",
      "   macro avg       0.85      0.82      0.83       167\n",
      "weighted avg       0.85      0.84      0.83       167\n",
      "\n"
     ]
    }
   ],
   "source": [
    "print(\"Classification Report for Random Forest:\\n\")\n",
    "print(classification_report(y_true, y_pred))"
   ]
  },
  {
   "cell_type": "markdown",
   "metadata": {
    "id": "ORgcK8FwTPSL"
   },
   "source": [
    "For the random forest, the model’s accuracy on the training data is **0.8551**, which is quite high. Table shows a lot of information about the accuracy of the model. Looking at the precision, recall, and F1-score for each class, we can see that the model has higher precision for class 1 (0.89) than for class 0 (0.81), indicating that when the model predicts an instance as belonging to class 1, it is more likely to be correct. However, the recall for class 1 (0.70) is lower than that for class 0 (0.94), which means that the model may have missed some instances belonging to class 1. The macro average and weighted average of the precision, recall, and F1-score are both around 0.83, which suggests that the model's performance is roughly consistent across both classes."
   ]
  },
  {
   "cell_type": "markdown",
   "metadata": {
    "id": "pgMIcN8gMx6K"
   },
   "source": [
    "##### **Logistic Regression Classification**"
   ]
  },
  {
   "cell_type": "code",
   "execution_count": 62,
   "metadata": {
    "id": "9c4SibzvMx6K"
   },
   "outputs": [],
   "source": [
    "lr = LogisticRegression(labelCol = 'Survived', predictionCol = 'prediction')\n",
    "\n",
    "lrModel = lr.fit(trainPipe)"
   ]
  },
  {
   "cell_type": "code",
   "execution_count": 64,
   "metadata": {
    "id": "7vvWXZiDMx6K"
   },
   "outputs": [],
   "source": [
    "pred_results_lr = lrModel.transform(testPipe)"
   ]
  },
  {
   "cell_type": "markdown",
   "metadata": {
    "id": "nSxOjlC8Mx6K"
   },
   "source": [
    "##### **Test Prediction & Accuracy Assessment - Logistic Regression**"
   ]
  },
  {
   "cell_type": "code",
   "execution_count": 81,
   "metadata": {
    "colab": {
     "base_uri": "https://localhost:8080/"
    },
    "id": "XOhOPR-qMx6K",
    "outputId": "9fac9d0f-bd84-4763-c492-50971892a94a"
   },
   "outputs": [
    {
     "name": "stdout",
     "output_type": "stream",
     "text": [
      "The training accuracy of the model is: 0.8328\n"
     ]
    }
   ],
   "source": [
    "# For the Training Set\n",
    "summary = lrModel.summary\n",
    "print('The training accuracy of the model is:', str(summary.accuracy)[0:6])"
   ]
  },
  {
   "cell_type": "code",
   "execution_count": 66,
   "metadata": {
    "id": "ZIKQfbaQMx6K"
   },
   "outputs": [],
   "source": [
    "y_true = pred_results_lr.select(['Survived']).collect()\n",
    "y_pred = pred_results_lr.select(['prediction']).collect()"
   ]
  },
  {
   "cell_type": "code",
   "execution_count": 67,
   "metadata": {
    "colab": {
     "base_uri": "https://localhost:8080/"
    },
    "id": "OaBPkEjaMx6K",
    "outputId": "33eed55a-971e-4f91-bafe-8c6714e3e8a5"
   },
   "outputs": [
    {
     "name": "stdout",
     "output_type": "stream",
     "text": [
      "Classification Report for Logistic Regression:\n",
      "\n",
      "              precision    recall  f1-score   support\n",
      "\n",
      "           0       0.80      0.92      0.86        97\n",
      "           1       0.86      0.69      0.76        70\n",
      "\n",
      "    accuracy                           0.82       167\n",
      "   macro avg       0.83      0.80      0.81       167\n",
      "weighted avg       0.82      0.82      0.82       167\n",
      "\n"
     ]
    }
   ],
   "source": [
    "print(\"Classification Report for Logistic Regression:\\n\")\n",
    "print(classification_report(y_true, y_pred))"
   ]
  },
  {
   "cell_type": "markdown",
   "metadata": {},
   "source": [
    "For logistic regression, the model’s overall accuracy on the training data is **0.8328**. The model achieved an overall accuracy of 0.82, which means that it correctly classified 82% of the instances in the dataset. The precision, recall, and F1-score for each class shows us that the model has higher precision for class 1 (0.86) than for class 0 (0.80), indicating that when the model predicts an instance as belonging to class 1, it is more likely to be correct. However, the recall for class 1 (0.69) is much lower than that for class 0 (0.92), which means that the model may have missed some instances belonging to class 1. The F1-score provides an overall measure of the model's performance for each class. In this case, the F1-score for class 0 is higher (0.86) than that for class 1 (0.76)."
   ]
  },
  {
   "cell_type": "markdown",
   "metadata": {},
   "source": [
    "### Discussion & Conclusion"
   ]
  },
  {
   "cell_type": "markdown",
   "metadata": {},
   "source": [
    "We see that the methodology which we followed helped us creating the machine learning models perform good. Moreover, the choice of our pre-processing and cleaning data was indeed a major step which helped to maintain the data quality and consistency. After performing the visual analysis, we saw that the variables are quite correlated with each other, which might be one of the reasons that our machine learning model performed well. But comparing the two classification models, we can see that the random forest model had a slightly higher overall accuracy (0.84) than the logistic regression (0.82). However, the performance of the two models varied for each class. Overall, while the model's performance appears to be reasonably good, but there is still scope for improvement. Therefore, further analysis and fine-tuning may help to improve the model’s accuracy in predicting both the classes. In the case of the random forest model, further tuning may help to improve its precision for class 1, while for the logistic regression model, further tuning might to improve its recall for class 1. It is also possible that a different type of model may perform better for this data. Therefore, it may be worthwhile to explore other types of models and further analyse the data to improve the overall accuracy of the model."
   ]
  }
 ],
 "metadata": {
  "colab": {
   "provenance": []
  },
  "kernelspec": {
   "display_name": "Python 3",
   "language": "python",
   "name": "python3"
  },
  "language_info": {
   "codemirror_mode": {
    "name": "ipython",
    "version": 3
   },
   "file_extension": ".py",
   "mimetype": "text/x-python",
   "name": "python",
   "nbconvert_exporter": "python",
   "pygments_lexer": "ipython3",
   "version": "3.7.3"
  }
 },
 "nbformat": 4,
 "nbformat_minor": 1
}
